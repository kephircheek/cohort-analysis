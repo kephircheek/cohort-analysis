{
 "cells": [
  {
   "cell_type": "code",
   "execution_count": 1,
   "metadata": {},
   "outputs": [],
   "source": [
    "import pandas as pd\n",
    "import matplotlib.pyplot as plt"
   ]
  },
  {
   "cell_type": "code",
   "execution_count": 5,
   "metadata": {},
   "outputs": [],
   "source": [
    "sales = pd.read_excel('src/data.xlsx', sheet_name='Sales')"
   ]
  },
  {
   "cell_type": "code",
   "execution_count": 8,
   "metadata": {},
   "outputs": [
    {
     "data": {
      "text/html": [
       "<div>\n",
       "<style scoped>\n",
       "    .dataframe tbody tr th:only-of-type {\n",
       "        vertical-align: middle;\n",
       "    }\n",
       "\n",
       "    .dataframe tbody tr th {\n",
       "        vertical-align: top;\n",
       "    }\n",
       "\n",
       "    .dataframe thead th {\n",
       "        text-align: right;\n",
       "    }\n",
       "</style>\n",
       "<table border=\"1\" class=\"dataframe\">\n",
       "  <thead>\n",
       "    <tr style=\"text-align: right;\">\n",
       "      <th></th>\n",
       "      <th>Sale Date</th>\n",
       "      <th>Client ID</th>\n",
       "      <th>Client</th>\n",
       "      <th>Sale ID</th>\n",
       "      <th>Item name</th>\n",
       "      <th>Sales Notes</th>\n",
       "      <th>Location</th>\n",
       "      <th>Notes</th>\n",
       "      <th>Color</th>\n",
       "      <th>Size</th>\n",
       "      <th>Item price (excluding tax)</th>\n",
       "      <th>Quantity</th>\n",
       "      <th>Subtotal (excluding tax)</th>\n",
       "      <th>Discount %</th>\n",
       "      <th>Discount amount</th>\n",
       "      <th>Tax</th>\n",
       "      <th>Item Total</th>\n",
       "      <th>Total Paid w/ Payment Method</th>\n",
       "      <th>Payment Method</th>\n",
       "    </tr>\n",
       "  </thead>\n",
       "  <tbody>\n",
       "    <tr>\n",
       "      <th>0</th>\n",
       "      <td>2014-12-19</td>\n",
       "      <td>55555рррр</td>\n",
       "      <td>Client, Test</td>\n",
       "      <td>3</td>\n",
       "      <td>6 sessijas 45min</td>\n",
       "      <td>NaN</td>\n",
       "      <td>[BREEZE} AQUAFIT &amp; VITALITY SPA Center</td>\n",
       "      <td>NaN</td>\n",
       "      <td>---</td>\n",
       "      <td>---</td>\n",
       "      <td>157.03</td>\n",
       "      <td>1</td>\n",
       "      <td>157.03</td>\n",
       "      <td>0.0</td>\n",
       "      <td>0.00</td>\n",
       "      <td>32.97</td>\n",
       "      <td>190.0</td>\n",
       "      <td>190.0</td>\n",
       "      <td>Cash</td>\n",
       "    </tr>\n",
       "    <tr>\n",
       "      <th>1</th>\n",
       "      <td>2014-12-19</td>\n",
       "      <td>55555рррр</td>\n",
       "      <td>Client, Test</td>\n",
       "      <td>3</td>\n",
       "      <td>1 sessija</td>\n",
       "      <td>NaN</td>\n",
       "      <td>[BREEZE} AQUAFIT &amp; VITALITY SPA Center</td>\n",
       "      <td>NaN</td>\n",
       "      <td>---</td>\n",
       "      <td>---</td>\n",
       "      <td>66.11</td>\n",
       "      <td>1</td>\n",
       "      <td>66.11</td>\n",
       "      <td>10.0</td>\n",
       "      <td>6.61</td>\n",
       "      <td>12.50</td>\n",
       "      <td>72.0</td>\n",
       "      <td>72.0</td>\n",
       "      <td>Cash</td>\n",
       "    </tr>\n",
       "    <tr>\n",
       "      <th>2</th>\n",
       "      <td>2015-01-05</td>\n",
       "      <td>100000003</td>\n",
       "      <td>Gromova, Jelena</td>\n",
       "      <td>4</td>\n",
       "      <td>1 sessija 30 min</td>\n",
       "      <td>NaN</td>\n",
       "      <td>[BREEZE} AQUAFIT &amp; VITALITY SPA Center</td>\n",
       "      <td>NaN</td>\n",
       "      <td>---</td>\n",
       "      <td>---</td>\n",
       "      <td>11.16</td>\n",
       "      <td>1</td>\n",
       "      <td>11.16</td>\n",
       "      <td>0.0</td>\n",
       "      <td>0.00</td>\n",
       "      <td>2.34</td>\n",
       "      <td>13.5</td>\n",
       "      <td>13.5</td>\n",
       "      <td>Cash</td>\n",
       "    </tr>\n",
       "    <tr>\n",
       "      <th>3</th>\n",
       "      <td>2015-01-05</td>\n",
       "      <td>1</td>\n",
       "      <td>Walk-in, Walk-in</td>\n",
       "      <td>25</td>\n",
       "      <td>Tēja PUKKA</td>\n",
       "      <td>NaN</td>\n",
       "      <td>[BREEZE} AQUAFIT &amp; VITALITY SPA Center</td>\n",
       "      <td>NaN</td>\n",
       "      <td>---</td>\n",
       "      <td>---</td>\n",
       "      <td>3.72</td>\n",
       "      <td>1</td>\n",
       "      <td>3.72</td>\n",
       "      <td>0.0</td>\n",
       "      <td>0.00</td>\n",
       "      <td>0.78</td>\n",
       "      <td>4.5</td>\n",
       "      <td>4.5</td>\n",
       "      <td>Cash</td>\n",
       "    </tr>\n",
       "    <tr>\n",
       "      <th>4</th>\n",
       "      <td>2015-01-05</td>\n",
       "      <td>1</td>\n",
       "      <td>Walk-in, Walk-in</td>\n",
       "      <td>28</td>\n",
       "      <td>Tēja</td>\n",
       "      <td>NaN</td>\n",
       "      <td>[BREEZE} AQUAFIT &amp; VITALITY SPA Center</td>\n",
       "      <td>NaN</td>\n",
       "      <td>---</td>\n",
       "      <td>---</td>\n",
       "      <td>1.49</td>\n",
       "      <td>1</td>\n",
       "      <td>1.49</td>\n",
       "      <td>16.5</td>\n",
       "      <td>0.25</td>\n",
       "      <td>0.26</td>\n",
       "      <td>1.5</td>\n",
       "      <td>1.5</td>\n",
       "      <td>Cash</td>\n",
       "    </tr>\n",
       "  </tbody>\n",
       "</table>\n",
       "</div>"
      ],
      "text/plain": [
       "   Sale Date  Client ID            Client  Sale ID         Item name  \\\n",
       "0 2014-12-19  55555рррр      Client, Test        3  6 sessijas 45min   \n",
       "1 2014-12-19  55555рррр      Client, Test        3         1 sessija   \n",
       "2 2015-01-05  100000003   Gromova, Jelena        4  1 sessija 30 min   \n",
       "3 2015-01-05          1  Walk-in, Walk-in       25        Tēja PUKKA   \n",
       "4 2015-01-05          1  Walk-in, Walk-in       28              Tēja   \n",
       "\n",
       "  Sales Notes                                Location Notes Color Size  \\\n",
       "0         NaN  [BREEZE} AQUAFIT & VITALITY SPA Center   NaN   ---  ---   \n",
       "1         NaN  [BREEZE} AQUAFIT & VITALITY SPA Center   NaN   ---  ---   \n",
       "2         NaN  [BREEZE} AQUAFIT & VITALITY SPA Center   NaN   ---  ---   \n",
       "3         NaN  [BREEZE} AQUAFIT & VITALITY SPA Center   NaN   ---  ---   \n",
       "4         NaN  [BREEZE} AQUAFIT & VITALITY SPA Center   NaN   ---  ---   \n",
       "\n",
       "   Item price (excluding tax)  Quantity  Subtotal (excluding tax)  Discount %  \\\n",
       "0                      157.03         1                    157.03         0.0   \n",
       "1                       66.11         1                     66.11        10.0   \n",
       "2                       11.16         1                     11.16         0.0   \n",
       "3                        3.72         1                      3.72         0.0   \n",
       "4                        1.49         1                      1.49        16.5   \n",
       "\n",
       "   Discount amount    Tax  Item Total  Total Paid w/ Payment Method  \\\n",
       "0             0.00  32.97       190.0                         190.0   \n",
       "1             6.61  12.50        72.0                          72.0   \n",
       "2             0.00   2.34        13.5                          13.5   \n",
       "3             0.00   0.78         4.5                           4.5   \n",
       "4             0.25   0.26         1.5                           1.5   \n",
       "\n",
       "  Payment Method  \n",
       "0           Cash  \n",
       "1           Cash  \n",
       "2           Cash  \n",
       "3           Cash  \n",
       "4           Cash  "
      ]
     },
     "execution_count": 8,
     "metadata": {},
     "output_type": "execute_result"
    }
   ],
   "source": [
    "sales.head()"
   ]
  },
  {
   "cell_type": "code",
   "execution_count": 16,
   "metadata": {},
   "outputs": [],
   "source": [
    "# sales.info()"
   ]
  },
  {
   "cell_type": "code",
   "execution_count": 21,
   "metadata": {},
   "outputs": [
    {
     "data": {
      "text/html": [
       "<div>\n",
       "<style scoped>\n",
       "    .dataframe tbody tr th:only-of-type {\n",
       "        vertical-align: middle;\n",
       "    }\n",
       "\n",
       "    .dataframe tbody tr th {\n",
       "        vertical-align: top;\n",
       "    }\n",
       "\n",
       "    .dataframe thead th {\n",
       "        text-align: right;\n",
       "    }\n",
       "</style>\n",
       "<table border=\"1\" class=\"dataframe\">\n",
       "  <thead>\n",
       "    <tr style=\"text-align: right;\">\n",
       "      <th></th>\n",
       "      <th>Sale ID</th>\n",
       "      <th>Item price (excluding tax)</th>\n",
       "      <th>Quantity</th>\n",
       "      <th>Subtotal (excluding tax)</th>\n",
       "      <th>Discount %</th>\n",
       "      <th>Discount amount</th>\n",
       "      <th>Tax</th>\n",
       "      <th>Item Total</th>\n",
       "      <th>Total Paid w/ Payment Method</th>\n",
       "    </tr>\n",
       "  </thead>\n",
       "  <tbody>\n",
       "    <tr>\n",
       "      <th>count</th>\n",
       "      <td>23282.000000</td>\n",
       "      <td>23282.000000</td>\n",
       "      <td>23282.000000</td>\n",
       "      <td>23282.000000</td>\n",
       "      <td>23282.000000</td>\n",
       "      <td>23282.000000</td>\n",
       "      <td>23282.000000</td>\n",
       "      <td>23282.000000</td>\n",
       "      <td>23282.000000</td>\n",
       "    </tr>\n",
       "    <tr>\n",
       "      <th>mean</th>\n",
       "      <td>71367.966841</td>\n",
       "      <td>24.803138</td>\n",
       "      <td>1.026372</td>\n",
       "      <td>24.827179</td>\n",
       "      <td>1.732268</td>\n",
       "      <td>0.823693</td>\n",
       "      <td>1.636548</td>\n",
       "      <td>25.657318</td>\n",
       "      <td>24.654655</td>\n",
       "    </tr>\n",
       "    <tr>\n",
       "      <th>std</th>\n",
       "      <td>67163.949892</td>\n",
       "      <td>37.588772</td>\n",
       "      <td>0.272583</td>\n",
       "      <td>37.596652</td>\n",
       "      <td>6.594453</td>\n",
       "      <td>6.453959</td>\n",
       "      <td>4.157448</td>\n",
       "      <td>37.633505</td>\n",
       "      <td>36.389993</td>\n",
       "    </tr>\n",
       "    <tr>\n",
       "      <th>min</th>\n",
       "      <td>3.000000</td>\n",
       "      <td>0.000000</td>\n",
       "      <td>-1.000000</td>\n",
       "      <td>-180.000000</td>\n",
       "      <td>0.000000</td>\n",
       "      <td>0.000000</td>\n",
       "      <td>-3.230000</td>\n",
       "      <td>-180.000000</td>\n",
       "      <td>-90.000000</td>\n",
       "    </tr>\n",
       "    <tr>\n",
       "      <th>25%</th>\n",
       "      <td>4544.250000</td>\n",
       "      <td>3.720000</td>\n",
       "      <td>1.000000</td>\n",
       "      <td>3.720000</td>\n",
       "      <td>0.000000</td>\n",
       "      <td>0.000000</td>\n",
       "      <td>0.000000</td>\n",
       "      <td>4.500000</td>\n",
       "      <td>4.500000</td>\n",
       "    </tr>\n",
       "    <tr>\n",
       "      <th>50%</th>\n",
       "      <td>58802.000000</td>\n",
       "      <td>15.000000</td>\n",
       "      <td>1.000000</td>\n",
       "      <td>15.000000</td>\n",
       "      <td>0.000000</td>\n",
       "      <td>0.000000</td>\n",
       "      <td>0.000000</td>\n",
       "      <td>15.000000</td>\n",
       "      <td>15.000000</td>\n",
       "    </tr>\n",
       "    <tr>\n",
       "      <th>75%</th>\n",
       "      <td>132864.750000</td>\n",
       "      <td>28.000000</td>\n",
       "      <td>1.000000</td>\n",
       "      <td>28.000000</td>\n",
       "      <td>0.000000</td>\n",
       "      <td>0.000000</td>\n",
       "      <td>0.780000</td>\n",
       "      <td>30.000000</td>\n",
       "      <td>30.000000</td>\n",
       "    </tr>\n",
       "    <tr>\n",
       "      <th>max</th>\n",
       "      <td>177131.000000</td>\n",
       "      <td>650.000000</td>\n",
       "      <td>15.000000</td>\n",
       "      <td>650.000000</td>\n",
       "      <td>100.000000</td>\n",
       "      <td>150.000000</td>\n",
       "      <td>78.100000</td>\n",
       "      <td>650.000000</td>\n",
       "      <td>650.000000</td>\n",
       "    </tr>\n",
       "  </tbody>\n",
       "</table>\n",
       "</div>"
      ],
      "text/plain": [
       "             Sale ID  Item price (excluding tax)      Quantity  \\\n",
       "count   23282.000000                23282.000000  23282.000000   \n",
       "mean    71367.966841                   24.803138      1.026372   \n",
       "std     67163.949892                   37.588772      0.272583   \n",
       "min         3.000000                    0.000000     -1.000000   \n",
       "25%      4544.250000                    3.720000      1.000000   \n",
       "50%     58802.000000                   15.000000      1.000000   \n",
       "75%    132864.750000                   28.000000      1.000000   \n",
       "max    177131.000000                  650.000000     15.000000   \n",
       "\n",
       "       Subtotal (excluding tax)    Discount %  Discount amount           Tax  \\\n",
       "count              23282.000000  23282.000000     23282.000000  23282.000000   \n",
       "mean                  24.827179      1.732268         0.823693      1.636548   \n",
       "std                   37.596652      6.594453         6.453959      4.157448   \n",
       "min                 -180.000000      0.000000         0.000000     -3.230000   \n",
       "25%                    3.720000      0.000000         0.000000      0.000000   \n",
       "50%                   15.000000      0.000000         0.000000      0.000000   \n",
       "75%                   28.000000      0.000000         0.000000      0.780000   \n",
       "max                  650.000000    100.000000       150.000000     78.100000   \n",
       "\n",
       "         Item Total  Total Paid w/ Payment Method  \n",
       "count  23282.000000                  23282.000000  \n",
       "mean      25.657318                     24.654655  \n",
       "std       37.633505                     36.389993  \n",
       "min     -180.000000                    -90.000000  \n",
       "25%        4.500000                      4.500000  \n",
       "50%       15.000000                     15.000000  \n",
       "75%       30.000000                     30.000000  \n",
       "max      650.000000                    650.000000  "
      ]
     },
     "execution_count": 21,
     "metadata": {},
     "output_type": "execute_result"
    }
   ],
   "source": [
    "sales.describe()"
   ]
  },
  {
   "cell_type": "code",
   "execution_count": 23,
   "metadata": {},
   "outputs": [
    {
     "data": {
      "text/plain": [
       "<matplotlib.axes._subplots.AxesSubplot at 0x113608c70>"
      ]
     },
     "execution_count": 23,
     "metadata": {},
     "output_type": "execute_result"
    },
    {
     "data": {
      "image/png": "[encoded data removed]",
      "text/plain": [
       "<Figure size 432x288 with 1 Axes>"
      ]
     },
     "metadata": {
      "needs_background": "light"
     },
     "output_type": "display_data"
    }
   ],
   "source": [
    "sales.Quantity.hist()"
   ]
  },
  {
   "cell_type": "code",
   "execution_count": 20,
   "metadata": {},
   "outputs": [
    {
     "data": {
      "text/plain": [
       "0         24659.4209\n",
       "1          4371.5321\n",
       "2           125.5456\n",
       "3            14.8384\n",
       "4             3.2201\n",
       "            ...     \n",
       "23277      1157.0000\n",
       "23278    152101.0000\n",
       "23279    160001.0000\n",
       "23280       577.0000\n",
       "23281     16901.0000\n",
       "Name: Item price (excluding tax), Length: 23282, dtype: float64"
      ]
     },
     "execution_count": 20,
     "metadata": {},
     "output_type": "execute_result"
    }
   ],
   "source": [
    "sales['Item price (excluding tax)'].apply(lambda x: x**2 + 1)"
   ]
  },
  {
   "cell_type": "code",
   "execution_count": 25,
   "metadata": {},
   "outputs": [
    {
     "data": {
      "text/plain": [
       "<matplotlib.axes._subplots.AxesSubplot at 0x113bd6400>"
      ]
     },
     "execution_count": 25,
     "metadata": {},
     "output_type": "execute_result"
    },
    {
     "data": {
      "image/png": "[encoded data removed]",
      "text/plain": [
       "<Figure size 432x288 with 1 Axes>"
      ]
     },
     "metadata": {
      "needs_background": "light"
     },
     "output_type": "display_data"
    }
   ],
   "source": [
    "sales.plot('Subtotal (excluding tax)', 'Discount %', kind='scatter')"
   ]
  },
  {
   "cell_type": "code",
   "execution_count": 36,
   "metadata": {},
   "outputs": [],
   "source": [
    "fig, axes = plt.subplots(2, 2, figsize=(14, 7))\n",
    "axes[0, 0].scatter(sales['Subtotal (excluding tax)'].values, sales['Discount %'])\n",
    "axes[0, 1].scatter(sales['Subtotal (excluding tax)'].values, sales['Tax'])\n",
    "fig.savefig('src/figure.png')\n",
    "plt.close(fig) "
   ]
  },
  {
   "cell_type": "code",
   "execution_count": null,
   "metadata": {},
   "outputs": [],
   "source": []
  }
 ],
 "metadata": {
  "kernelspec": {
   "display_name": "cohort-analysis",
   "language": "python",
   "name": "cohort-analysis"
  },
  "language_info": {
   "codemirror_mode": {
    "name": "ipython",
    "version": 3
   },
   "file_extension": ".py",
   "mimetype": "text/x-python",
   "name": "python",
   "nbconvert_exporter": "python",
   "pygments_lexer": "ipython3",
   "version": "3.8.2"
  }
 },
 "nbformat": 4,
 "nbformat_minor": 4
}
